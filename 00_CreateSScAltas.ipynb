{
 "cells": [
  {
   "cell_type": "code",
   "execution_count": null,
   "id": "7e3c9809-be8e-4912-b0fe-e5d46335ef04",
   "metadata": {
    "tags": []
   },
   "outputs": [],
   "source": [
    "# load libraries\n",
    "library(Seurat)\n",
    "library(dplyr)\n",
    "library(tidyverse)\n",
    "library(doParallel)\n",
    "library(patchwork)\n",
    "source(\"/share/home/qlab/projects/qlab_yrs/project_ssc/scTools.R\")\n",
    "# 设定下跑数据的内存\n",
    "library(future)\n",
    "plan(\"multiprocess\", workers = 10)\n",
    "plan()\n",
    "options(future.globals.maxSize = 20*1000 * 1024^2) "
   ]
  },
  {
   "cell_type": "code",
   "execution_count": null,
   "id": "d5ca243d-845c-4be6-b83b-47961683e9ba",
   "metadata": {
    "jupyter": {
     "source_hidden": true
    },
    "tags": []
   },
   "outputs": [],
   "source": [
    "# Obtain raw data \n",
    "SampleInfo <- read_csv(\"./data/SamFeatureAll.csv\")\n",
    "SampleList <- SampleInfo$SampleID\n",
    "SampleName <- SampleInfo$SamNum\n",
    "sample.combined <- NULL\n",
    "length(SampleList)\n",
    "\n",
    "for(i in seq_along(SampleList)){\n",
    "  if(i <= 13){\n",
    "    print(i)\n",
    "    RawData <- Read10X(data.dir = paste0(\"./matrix/SSC-Paper/\",SampleList[i]))\n",
    "    newnames  <-  paste0(SampleName[i],\"_\",colnames(RawData))\n",
    "    colnames(RawData)  <- newnames\n",
    "    empty.out <- emptyDrops(RawData, lower = 200, ignore = 300)\n",
    "    is.cell <- empty.out$FDR <= 0.01\n",
    "    sum(is.cell, na.rm=TRUE)\n",
    "    table(Limited=empty.out$Limited, Significant=is.cell)\n",
    "    cells.use <- empty.out %>% as.data.frame() %>%\n",
    "      rownames_to_column(var = \"CellName\") %>%\n",
    "      dplyr::filter(FDR < 0.01, !is.na(FDR)) %>%\n",
    "      pull(CellName)\n",
    "    Sample<-CreateSeuratObject(counts = RawData[, cells.use], project = SampleList[i])\n",
    "    if(is.null(sample.combined)) {\n",
    "      sample.combined <- Sample\n",
    "    } else {sample.combined <- merge(sample.combined, Sample, add.cell.ids = NULL,merge.data = TRUE, na.rm = TRUE)}\n",
    "  }else if(i == 14|i == 15){\n",
    "      print(i)\n",
    "      RawData <- Read10X_h5(paste0(\"./matrix/GEX_\", SampleList[i], \"/raw_feature_bc_matrix.h5\"))\n",
    "      newnames  <-  paste0(SampleName[i],\"_\",colnames(RawData))\n",
    "      colnames(RawData)  <- newnames\n",
    "      empty.out <- emptyDrops(RawData, lower = 200, ignore = 300)\n",
    "      is.cell <- empty.out$FDR <= 0.01\n",
    "      sum(is.cell, na.rm=TRUE)\n",
    "      table(Limited=empty.out$Limited, Significant=is.cell)\n",
    "      cells.use  <- empty.out %>% \n",
    "                    as.data.frame() %>%\n",
    "                    rownames_to_column(var = \"CellName\") %>%\n",
    "                    dplyr::filter(FDR < 0.01, !is.na(FDR)) %>%\n",
    "                    pull(CellName)\n",
    "      Sample<-CreateSeuratObject(counts = RawData[, cells.use], project = SampleList[i])\n",
    "      sample.combined <- merge(sample.combined, Sample, add.cell.ids = NULL,merge.data = TRUE, na.rm = TRUE)\n",
    "  }else if(i > 15){\n",
    "      print(i)\n",
    "      RawData <- Read10X_h5(paste0(\"./matrix/2018v2/\", SampleList[i], \"_raw_matrices.h5\"))\n",
    "      newnames <- paste0(SampleName[i],\"_\",colnames(RawData))\n",
    "      colnames(RawData) <- newnames\n",
    "      empty.out <- emptyDrops(RawData, lower = 200, ignore = 300)\n",
    "      is.cell <- empty.out$FDR <= 0.01\n",
    "      sum(is.cell, na.rm=TRUE)\n",
    "      table(Limited = empty.out$Limited, Significant = is.cell)\n",
    "      cells.use <- empty.out %>% as.data.frame() %>%\n",
    "      rownames_to_column(var = \"CellName\") %>%\n",
    "      dplyr::filter(FDR < 0.01, !is.na(FDR)) %>%\n",
    "      pull(CellName)\n",
    "      Sample<-CreateSeuratObject(counts = RawData[, cells.use], project = SampleList[i])\n",
    "      sample.combined <- merge(sample.combined, Sample, add.cell.ids = NULL,merge.data = TRUE, na.rm = TRUE)\n",
    "  }else{print('done')}\n",
    "}\n",
    "saveRDS(sample.combined, file=\"./data/SSC_Combine/raw.rds\")"
   ]
  },
  {
   "cell_type": "code",
   "execution_count": null,
   "id": "98e4556f-3ea5-46a5-adab-6d31b9acdcb1",
   "metadata": {
    "jupyter": {
     "source_hidden": true
    }
   },
   "outputs": [],
   "source": [
    "sample.combined <- readRDS(\"./data/SSC_Combine/object/all/raw.rds\")\n",
    "# Add Sample information\n",
    "metadata  <- sample.combined@meta.data[,c(1,2,3)] %>%\n",
    "  rownames_to_column(var = \"Cell\") %>%\n",
    "  dplyr::mutate(SamNum = orig.ident) %>%\n",
    "  left_join(SampleInfo, by = \"SamNum\") %>%\n",
    "  tibble::column_to_rownames(var = \"Cell\")\n",
    "sample.combined <- AddMetaData(object = sample.combined, metadata = metadata)\n",
    "sample.combined@meta.data[\"percent.mt\"] <- PercentageFeatureSet(sample.combined, pattern = \"^MT-\")\n",
    "\n",
    "VlnPlot(sample.combined, features = c(\"nCount_RNA\", \"nFeature_RNA\", \"percent.mt\"),pt.size=0, ncol=3) \n",
    "FeatureScatter(sample.combined, feature1 = \"nFeature_RNA\", feature2 = \"percent.mt\") + geom_smooth() #+xlim(0,5000)+ylim(0,2500)\n",
    "\n",
    "# Remove low quality cells\n",
    "sample.filter <- subset(sample.combined, subset= nCount_RNA > 400 & nFeature_RNA > 200 & percent.mt < 15)\n",
    "sample.filter <- NormalizeData(sample.filter, normalization.method = \"LogNormalize\", scale.factor = 10000)"
   ]
  },
  {
   "cell_type": "code",
   "execution_count": 4,
   "id": "0ce5292c-8025-49e9-b62b-202f84de9714",
   "metadata": {
    "collapsed": true,
    "jupyter": {
     "outputs_hidden": true,
     "source_hidden": true
    },
    "tags": []
   },
   "outputs": [
    {
     "name": "stdout",
     "output_type": "stream",
     "text": [
      "[1] 1\n"
     ]
    },
    {
     "name": "stderr",
     "output_type": "stream",
     "text": [
      "Warning message:\n",
      "“Feature names cannot have underscores ('_'), replacing with dashes ('-')”\n"
     ]
    },
    {
     "name": "stdout",
     "output_type": "stream",
     "text": [
      "[1] 2\n"
     ]
    },
    {
     "name": "stderr",
     "output_type": "stream",
     "text": [
      "Warning message:\n",
      "“Feature names cannot have underscores ('_'), replacing with dashes ('-')”\n",
      "Warning message:\n",
      "“The following arguments are not used: na.rm”\n"
     ]
    },
    {
     "name": "stdout",
     "output_type": "stream",
     "text": [
      "[1] 3\n"
     ]
    },
    {
     "name": "stderr",
     "output_type": "stream",
     "text": [
      "Warning message:\n",
      "“Feature names cannot have underscores ('_'), replacing with dashes ('-')”\n",
      "Warning message:\n",
      "“The following arguments are not used: na.rm”\n"
     ]
    },
    {
     "name": "stdout",
     "output_type": "stream",
     "text": [
      "[1] 4\n"
     ]
    },
    {
     "name": "stderr",
     "output_type": "stream",
     "text": [
      "Warning message:\n",
      "“Feature names cannot have underscores ('_'), replacing with dashes ('-')”\n",
      "Warning message:\n",
      "“The following arguments are not used: na.rm”\n"
     ]
    },
    {
     "name": "stdout",
     "output_type": "stream",
     "text": [
      "[1] 5\n"
     ]
    },
    {
     "name": "stderr",
     "output_type": "stream",
     "text": [
      "Warning message:\n",
      "“Feature names cannot have underscores ('_'), replacing with dashes ('-')”\n",
      "Warning message:\n",
      "“The following arguments are not used: na.rm”\n"
     ]
    },
    {
     "name": "stdout",
     "output_type": "stream",
     "text": [
      "[1] 6\n"
     ]
    },
    {
     "name": "stderr",
     "output_type": "stream",
     "text": [
      "Warning message:\n",
      "“Feature names cannot have underscores ('_'), replacing with dashes ('-')”\n",
      "Warning message:\n",
      "“The following arguments are not used: na.rm”\n"
     ]
    },
    {
     "name": "stdout",
     "output_type": "stream",
     "text": [
      "[1] 7\n"
     ]
    },
    {
     "name": "stderr",
     "output_type": "stream",
     "text": [
      "Warning message:\n",
      "“Feature names cannot have underscores ('_'), replacing with dashes ('-')”\n",
      "Warning message:\n",
      "“The following arguments are not used: na.rm”\n"
     ]
    },
    {
     "name": "stdout",
     "output_type": "stream",
     "text": [
      "[1] 8\n"
     ]
    },
    {
     "name": "stderr",
     "output_type": "stream",
     "text": [
      "Warning message:\n",
      "“Feature names cannot have underscores ('_'), replacing with dashes ('-')”\n",
      "Warning message:\n",
      "“The following arguments are not used: na.rm”\n"
     ]
    },
    {
     "name": "stdout",
     "output_type": "stream",
     "text": [
      "[1] 9\n"
     ]
    },
    {
     "name": "stderr",
     "output_type": "stream",
     "text": [
      "Warning message:\n",
      "“Feature names cannot have underscores ('_'), replacing with dashes ('-')”\n",
      "Warning message:\n",
      "“The following arguments are not used: na.rm”\n"
     ]
    },
    {
     "name": "stdout",
     "output_type": "stream",
     "text": [
      "[1] 10\n"
     ]
    },
    {
     "name": "stderr",
     "output_type": "stream",
     "text": [
      "Warning message:\n",
      "“Feature names cannot have underscores ('_'), replacing with dashes ('-')”\n",
      "Warning message:\n",
      "“The following arguments are not used: na.rm”\n"
     ]
    },
    {
     "name": "stdout",
     "output_type": "stream",
     "text": [
      "[1] 11\n"
     ]
    },
    {
     "name": "stderr",
     "output_type": "stream",
     "text": [
      "Warning message:\n",
      "“Feature names cannot have underscores ('_'), replacing with dashes ('-')”\n",
      "Warning message:\n",
      "“The following arguments are not used: na.rm”\n"
     ]
    },
    {
     "name": "stdout",
     "output_type": "stream",
     "text": [
      "[1] 12\n"
     ]
    },
    {
     "name": "stderr",
     "output_type": "stream",
     "text": [
      "Warning message:\n",
      "“Feature names cannot have underscores ('_'), replacing with dashes ('-')”\n",
      "Warning message:\n",
      "“The following arguments are not used: na.rm”\n"
     ]
    },
    {
     "name": "stdout",
     "output_type": "stream",
     "text": [
      "[1] 13\n"
     ]
    },
    {
     "name": "stderr",
     "output_type": "stream",
     "text": [
      "Warning message:\n",
      "“Feature names cannot have underscores ('_'), replacing with dashes ('-')”\n",
      "Warning message:\n",
      "“The following arguments are not used: na.rm”\n"
     ]
    },
    {
     "name": "stdout",
     "output_type": "stream",
     "text": [
      "[1] 14\n"
     ]
    },
    {
     "name": "stderr",
     "output_type": "stream",
     "text": [
      "Warning message in sparseMatrix(i = indices[] + 1, p = indptr[], x = as.numeric(x = counts[]), :\n",
      "“'giveCsparse' has been deprecated; setting 'repr = \"T\"' for you”\n",
      "Warning message:\n",
      "“The following arguments are not used: na.rm”\n"
     ]
    },
    {
     "name": "stdout",
     "output_type": "stream",
     "text": [
      "[1] 15\n"
     ]
    },
    {
     "name": "stderr",
     "output_type": "stream",
     "text": [
      "Warning message in sparseMatrix(i = indices[] + 1, p = indptr[], x = as.numeric(x = counts[]), :\n",
      "“'giveCsparse' has been deprecated; setting 'repr = \"T\"' for you”\n",
      "Warning message:\n",
      "“The following arguments are not used: na.rm”\n"
     ]
    },
    {
     "name": "stdout",
     "output_type": "stream",
     "text": [
      "[1] 16\n"
     ]
    },
    {
     "name": "stderr",
     "output_type": "stream",
     "text": [
      "Warning message in sparseMatrix(i = indices[] + 1, p = indptr[], x = as.numeric(x = counts[]), :\n",
      "“'giveCsparse' has been deprecated; setting 'repr = \"T\"' for you”\n",
      "Warning message:\n",
      "“Feature names cannot have underscores ('_'), replacing with dashes ('-')”\n",
      "Warning message:\n",
      "“The following arguments are not used: na.rm”\n"
     ]
    },
    {
     "name": "stdout",
     "output_type": "stream",
     "text": [
      "[1] 17\n"
     ]
    },
    {
     "name": "stderr",
     "output_type": "stream",
     "text": [
      "Warning message in sparseMatrix(i = indices[] + 1, p = indptr[], x = as.numeric(x = counts[]), :\n",
      "“'giveCsparse' has been deprecated; setting 'repr = \"T\"' for you”\n",
      "Warning message:\n",
      "“Feature names cannot have underscores ('_'), replacing with dashes ('-')”\n",
      "Warning message:\n",
      "“The following arguments are not used: na.rm”\n"
     ]
    },
    {
     "name": "stdout",
     "output_type": "stream",
     "text": [
      "[1] 18\n"
     ]
    },
    {
     "name": "stderr",
     "output_type": "stream",
     "text": [
      "Warning message in sparseMatrix(i = indices[] + 1, p = indptr[], x = as.numeric(x = counts[]), :\n",
      "“'giveCsparse' has been deprecated; setting 'repr = \"T\"' for you”\n",
      "Warning message:\n",
      "“Feature names cannot have underscores ('_'), replacing with dashes ('-')”\n",
      "Warning message:\n",
      "“The following arguments are not used: na.rm”\n"
     ]
    },
    {
     "name": "stdout",
     "output_type": "stream",
     "text": [
      "[1] 19\n"
     ]
    },
    {
     "name": "stderr",
     "output_type": "stream",
     "text": [
      "Warning message in sparseMatrix(i = indices[] + 1, p = indptr[], x = as.numeric(x = counts[]), :\n",
      "“'giveCsparse' has been deprecated; setting 'repr = \"T\"' for you”\n",
      "Warning message:\n",
      "“Feature names cannot have underscores ('_'), replacing with dashes ('-')”\n",
      "Warning message:\n",
      "“The following arguments are not used: na.rm”\n"
     ]
    },
    {
     "name": "stdout",
     "output_type": "stream",
     "text": [
      "[1] 20\n"
     ]
    },
    {
     "name": "stderr",
     "output_type": "stream",
     "text": [
      "Warning message in sparseMatrix(i = indices[] + 1, p = indptr[], x = as.numeric(x = counts[]), :\n",
      "“'giveCsparse' has been deprecated; setting 'repr = \"T\"' for you”\n",
      "Warning message:\n",
      "“Feature names cannot have underscores ('_'), replacing with dashes ('-')”\n",
      "Warning message:\n",
      "“The following arguments are not used: na.rm”\n"
     ]
    },
    {
     "name": "stdout",
     "output_type": "stream",
     "text": [
      "[1] 21\n"
     ]
    },
    {
     "name": "stderr",
     "output_type": "stream",
     "text": [
      "Warning message in sparseMatrix(i = indices[] + 1, p = indptr[], x = as.numeric(x = counts[]), :\n",
      "“'giveCsparse' has been deprecated; setting 'repr = \"T\"' for you”\n",
      "Warning message:\n",
      "“Feature names cannot have underscores ('_'), replacing with dashes ('-')”\n",
      "Warning message:\n",
      "“The following arguments are not used: na.rm”\n"
     ]
    },
    {
     "name": "stdout",
     "output_type": "stream",
     "text": [
      "[1] 22\n"
     ]
    },
    {
     "name": "stderr",
     "output_type": "stream",
     "text": [
      "Warning message in sparseMatrix(i = indices[] + 1, p = indptr[], x = as.numeric(x = counts[]), :\n",
      "“'giveCsparse' has been deprecated; setting 'repr = \"T\"' for you”\n",
      "Warning message:\n",
      "“Feature names cannot have underscores ('_'), replacing with dashes ('-')”\n",
      "Warning message:\n",
      "“The following arguments are not used: na.rm”\n"
     ]
    },
    {
     "name": "stdout",
     "output_type": "stream",
     "text": [
      "[1] 23\n"
     ]
    },
    {
     "name": "stderr",
     "output_type": "stream",
     "text": [
      "Warning message in sparseMatrix(i = indices[] + 1, p = indptr[], x = as.numeric(x = counts[]), :\n",
      "“'giveCsparse' has been deprecated; setting 'repr = \"T\"' for you”\n",
      "Warning message:\n",
      "“Feature names cannot have underscores ('_'), replacing with dashes ('-')”\n",
      "Warning message:\n",
      "“The following arguments are not used: na.rm”\n"
     ]
    },
    {
     "name": "stdout",
     "output_type": "stream",
     "text": [
      "[1] 24\n"
     ]
    },
    {
     "name": "stderr",
     "output_type": "stream",
     "text": [
      "Warning message in sparseMatrix(i = indices[] + 1, p = indptr[], x = as.numeric(x = counts[]), :\n",
      "“'giveCsparse' has been deprecated; setting 'repr = \"T\"' for you”\n",
      "Warning message:\n",
      "“Feature names cannot have underscores ('_'), replacing with dashes ('-')”\n",
      "Warning message:\n",
      "“The following arguments are not used: na.rm”\n"
     ]
    },
    {
     "name": "stdout",
     "output_type": "stream",
     "text": [
      "[1] 25\n"
     ]
    },
    {
     "name": "stderr",
     "output_type": "stream",
     "text": [
      "Warning message in sparseMatrix(i = indices[] + 1, p = indptr[], x = as.numeric(x = counts[]), :\n",
      "“'giveCsparse' has been deprecated; setting 'repr = \"T\"' for you”\n",
      "Warning message:\n",
      "“Feature names cannot have underscores ('_'), replacing with dashes ('-')”\n",
      "Warning message:\n",
      "“The following arguments are not used: na.rm”\n"
     ]
    }
   ],
   "source": [
    "# CCA\n",
    "sample.list <- SplitObject(sample.filter, split.by = \"orig.ident\")\n",
    "sample.ssc <- lapply(X = sample.list, FUN = function(x) {\n",
    "    x <- FindVariableFeatures(x, selection.method = \"vst\", nfeatures = 4000)#nfeatures可以改为4000去找一些不常见的细胞群\n",
    "})\n",
    "features <- SelectIntegrationFeatures(object.list = sample.ssc)\n",
    "PbmcList <- lapply(X = sample.ssc, FUN = function(x) {\n",
    "    x <- ScaleData(x, features = features, verbose = FALSE)\n",
    "    x <- RunPCA(x, features = features, verbose = FALSE)\n",
    "})\n",
    "immune.anchors <- FindIntegrationAnchors(object.list = PbmcList, anchor.features = features, reduction = \"cca\")\n",
    "immune.combined <- IntegrateData(anchorset = immune.anchors)\n",
    "DefaultAssay(immune.combined) <- \"integrated\"\n",
    "saveRDS(immune.combined, file=\"./data/SSC_Combine/cca_ssc.rds\")"
   ]
  },
  {
   "cell_type": "code",
   "execution_count": 5,
   "id": "bdeb49d0-4d93-4cef-912c-5ec9bb0ecfdb",
   "metadata": {
    "jupyter": {
     "source_hidden": true
    }
   },
   "outputs": [],
   "source": [
    "# Calculate Cell State Scores\n",
    "# --- proliferation\n",
    "DefaultAssay(immune.combined) <- \"RNA\"\n",
    "immune.combined <- CellCycleScoring(immune.combined, s.features = cc.genes$s.genes,\n",
    "                                    g2m.features = cc.genes$g2m.genes, set.ident = TRUE)\n",
    "DefaultAssay(immune.combined) <- \"integrated\"\n",
    "var.features  <- VariableFeatures(immune.combined)\n",
    "genes.cc  <- extract_cellcycle(immune.combined, var.features, cores =10, assay = \"integrated\", cutoff = 0.1)\n",
    "\n",
    "# --- Interferon\n",
    "library(\"GSEABase\")\n",
    "msigdb <- getBroadSets(\"./data/msigdb_v7.4.xml\")\n",
    "index <- sapply(msigdb, function(gs)\n",
    "                bcCategory(collectionType(gs))==\"c2\")\n",
    "geneset.c2 = msigdb[index]\n",
    "geneset.interferon <- geneset.c2[[\"BROWNE_INTERFERON_RESPONSIVE_GENES\"]]\n",
    "interferon.genes <- geneset.interferon@geneIds\n",
    "interferon.genes  <-  interferon.genes[interferon.genes %in% rownames(immune.combined)]\n",
    "immune.combined <- AddModuleScore(\n",
    "                 object = immune.combined,\n",
    "                 features = list(interferon.genes),\n",
    "                 ctrl = length(interferon.genes),\n",
    "                 name = 'IFN.Score',\n",
    "                 assay = \"RNA\")\n",
    "genes.ifn  <- extract_ifn(immune.combined, var.features, cores =10, assay = \"integrated\", cutoff = 0.1)\n",
    "\n",
    "# mitochondrion\n",
    "genes.mt <- grep(pattern=\"^MT-\",x=var.features ,value = T)\n",
    "\n",
    "var.features.filtered  <- var.features[! var.features %in% c(cc.genes$g2m.genes, cc.genes$s.genes, genes.cc[1:100],\n",
    "                                                             interferon.genes, genes.ifn[1:50],genes.mt)]\n"
   ]
  },
  {
   "cell_type": "code",
   "execution_count": null,
   "id": "03aedf9b-bdc7-47d9-bbfb-2b7231d8981e",
   "metadata": {
    "jupyter": {
     "source_hidden": true
    }
   },
   "outputs": [],
   "source": [
    "# Run the standard workflow for visualization and clustering\n",
    "DefaultAssay(immune.combined) <- \"integrated\"\n",
    "immune.cluster <- ScaleData(immune.combined, verbose = FALSE)\n",
    "immune.cluster <- RunPCA(immune.cluster, npcs = 50, verbose = FALSE, features = var.features.filtered)\n",
    "immune.cluster <- RunUMAP(immune.cluster, reduction = \"pca\", dims = 1:30)\n",
    "immune.cluster <- FindNeighbors(immune.cluster, reduction = \"pca\", dims = 1:30)\n",
    "immune.cluster <-  FindClusters(immune.cluster, resolution = c(0.1,0.2, 0.4, 0.8,1.2,1.6,2,3))\n",
    "saveRDS(immune.cluster, file=\"./data/SSC_Combine/res_SSC.rds\")"
   ]
  },
  {
   "cell_type": "code",
   "execution_count": 9,
   "id": "5350a288-0043-4c94-b1c2-8bfc913f7ab1",
   "metadata": {
    "jupyter": {
     "source_hidden": true
    }
   },
   "outputs": [],
   "source": [
    "# --- Check the low quality cells\n",
    "DefaultAssay(immune.cluster) <- \"RNA\"\n",
    "#pdf(file=\"./result/QC/SSC_PBMC/nF_RNA.pdf\")\n",
    "FeaturePlot(immune.cluster, features=c(\"nFeature_RNA\"))\n",
    "#dev.off()\n",
    "#pdf(file=\"./result/QC/SSC_PBMC/perMT_RNA.pdf\")\n",
    "FeaturePlot(immune.cluster, features=c(\"percent.mt\"))\n",
    "#dev.off()\n",
    "FeaturePlot(immune.cluster, features=c(\"IFN.Score1\"))"
   ]
  },
  {
   "cell_type": "code",
   "execution_count": null,
   "id": "40a26f36-6145-413d-a922-86e1d0c270be",
   "metadata": {
    "jupyter": {
     "source_hidden": true
    },
    "tags": []
   },
   "outputs": [],
   "source": [
    "immune.cluster@meta.data %>%\n",
    "  group_by(integrated_snn_res.1.6)  %>%\n",
    "  summarise(gene = mean(nFeature_RNA), umi = mean(nCount_RNA), mt = mean(percent.mt))"
   ]
  },
  {
   "cell_type": "code",
   "execution_count": 11,
   "id": "4996feeb-94c4-4626-9462-c4d75c18d9c9",
   "metadata": {
    "jupyter": {
     "source_hidden": true
    },
    "tags": []
   },
   "outputs": [],
   "source": [
    "# Visualized different res UMAPs\n",
    "setwd(\"/share/home/qlab/projects/qlab_yrs/project_ssc/result/Umap/comDifRes\")\n",
    "pdf(\"res0.1.pdf\",width=15)\n",
    "Idents(immune.cluster) <- \"integrated_snn_res.0.1\"\n",
    "DimPlot(immune.cluster, reduction = \"umap\",label=TRUE)+NoLegend()\n",
    "dev.off()\n",
    "\n",
    "pdf(\"res0.2.pdf\",width=15)\n",
    "Idents(immune.cluster) <- \"integrated_snn_res.0.2\"\n",
    "DimPlot(immune.cluster, reduction = \"umap\",label=TRUE)+NoLegend()\n",
    "dev.off()\n",
    "\n",
    "pdf(\"res0.4.pdf\",width=15)\n",
    "Idents(immune.cluster) <- \"integrated_snn_res.0.4\"\n",
    "DimPlot(immune.cluster, reduction = \"umap\",label=TRUE)+NoLegend()\n",
    "dev.off()\n",
    "\n",
    "pdf(\"res0.8.pdf\",width=15)\n",
    "Idents(immune.cluster) <- \"integrated_snn_res.0.8\"\n",
    "DimPlot(immune.cluster, reduction = \"umap\",label=TRUE)+NoLegend()\n",
    "dev.off()\n",
    "\n",
    "pdf(\"res1.2.pdf\",width=15)\n",
    "Idents(immune.cluster) <- \"integrated_snn_res.1.2\"\n",
    "DimPlot(immune.cluster, reduction = \"umap\",label=TRUE)+NoLegend()\n",
    "dev.off()\n",
    "\n",
    "pdf(\"res1.6.pdf\",width=15)\n",
    "Idents(immune.cluster) <- \"integrated_snn_res.1.6\"\n",
    "DimPlot(immune.cluster, reduction = \"umap\",label=TRUE)+NoLegend()\n",
    "dev.off()\n",
    "\n",
    "pdf(\"res2.pdf\",width=15)\n",
    "Idents(immune.cluster) <- \"integrated_snn_res.2\"\n",
    "DimPlot(immune.cluster, reduction = \"umap\",label=TRUE)+NoLegend()\n",
    "dev.off()\n",
    "\n",
    "pdf(\"res3.pdf\",width=15)\n",
    "Idents(immune.cluster) <- \"integrated_snn_res.3\"\n",
    "DimPlot(immune.cluster, reduction = \"umap\",label=TRUE)+NoLegend()\n",
    "dev.off()"
   ]
  },
  {
   "cell_type": "code",
   "execution_count": null,
   "id": "cbd43bbb-1f9f-4dd7-b5fa-e498bdfa63b5",
   "metadata": {
    "jupyter": {
     "source_hidden": true
    },
    "tags": []
   },
   "outputs": [],
   "source": [
    "# Calculate cluster top genes with different res\n",
    "#immune.cluster <- readRDS(file=\"data/SSC_Combine/res_SSC.rds\")\n",
    "DefaultAssay(immune.cluster) <- \"RNA\"\n",
    "# setwd(\"/share/home/qlab/projects/qlab_yrs/project_ssc/data/MrkGen/SSC_Combine\")\n",
    "#0.1, 0.2, 0.4, 0.8,1.2,1.6,2, 3\n",
    "Idents(immune.cluster) <- \"integrated_snn_res.0.1\"\n",
    "immune.combined.markers0.1 <- FindAllMarkers(immune.cluster, only.pos = TRUE, min.pct = 0.25, logfc.threshold = 0.25)\n",
    "write.csv(immune.combined.markers0.1, file=\"ssc_marker0.1ALL.csv\")\n",
    "\n",
    "Idents(immune.cluster) <- \"integrated_snn_res.0.2\"\n",
    "immune.combined.markers0.2 <- FindAllMarkers(immune.cluster, only.pos = TRUE, min.pct = 0.25, logfc.threshold = 0.25)\n",
    "write.csv(immune.combined.markers0.2, file=\"ssc_marker0.2ALL.csv\")\n",
    "\n",
    "Idents(immune.cluster) <- \"integrated_snn_res.0.4\"\n",
    "immune.combined.markers0.4 <- FindAllMarkers(immune.cluster, only.pos = TRUE, min.pct = 0.25, logfc.threshold = 0.25)\n",
    "write.csv(immune.combined.markers0.4, file=\"ssc_marker0.4ALL.csv\")\n",
    "\n",
    "\n",
    "Idents(immune.cluster) <- \"integrated_snn_res.0.8\"\n",
    "immune.combined.markers0.8 <- FindAllMarkers(immune.cluster, only.pos = TRUE, min.pct = 0.25, logfc.threshold = 0.25)\n",
    "write.csv(immune.combined.markers0.8, file=\"ssc_marker0.8ALL.csv\")\n",
    "\n",
    "\n",
    "Idents(immune.cluster) <- \"integrated_snn_res.1.2\"\n",
    "immune.combined.markers1.2 <- FindAllMarkers(immune.cluster, only.pos = TRUE, min.pct = 0.25, logfc.threshold = 0.25)\n",
    "write.csv(immune.combined.markers1.2, file=\"ssc_marker1.2ALL.csv\")\n",
    "\n",
    "\n",
    "Idents(immune.cluster) <- \"integrated_snn_res.1.6\"\n",
    "immune.combined.markers1.6 <- FindAllMarkers(immune.cluster, only.pos = TRUE, min.pct = 0.25, logfc.threshold = 0.25)\n",
    "write.csv(immune.combined.markers1.6, file=\"ssc_marker1.6ALL.csv\")\n",
    "\n",
    "\n",
    "Idents(immune.cluster) <- \"integrated_snn_res.2\"\n",
    "immune.combined.markers2 <- FindAllMarkers(immune.cluster, only.pos = TRUE, min.pct = 0.25, logfc.threshold = 0.25)\n",
    "write.csv(immune.combined.markers2, file=\"ssc_marker2ALL.csv\")\n",
    "\n",
    "\n",
    "Idents(immune.cluster) <- \"integrated_snn_res.3\"\n",
    "immune.combined.markers3 <- FindAllMarkers(immune.cluster, only.pos = TRUE, min.pct = 0.25, logfc.threshold = 0.25)\n",
    "write.csv(immune.combined.markers3, file=\"ssc_marker3ALL.csv\")"
   ]
  },
  {
   "cell_type": "code",
   "execution_count": 13,
   "id": "1f6ba7d0-d491-4777-9359-dac02c109804",
   "metadata": {
    "jupyter": {
     "source_hidden": true
    }
   },
   "outputs": [],
   "source": [
    "# Annotation\n",
    "setwd(\"/share/home/qlab/projects/qlab_yrs/project_ssc/result/Annotation/SSC_Combined\")\n",
    "# Tcell\n",
    "pdf(\"Tcell.pdf\",width=15)\n",
    "DefaultAssay(immune.cluster) <- \"RNA\"\n",
    "FeaturePlot(immune.cluster, features=c(\"CD3D\",\"CD3E\",\"CD8A\",\"CD4\"))\n",
    "dev.off()\n",
    "\n",
    "pdf(\"Tclassify.pdf\",width=15)\n",
    "DefaultAssay(immune.cluster) <- \"RNA\"\n",
    "FeaturePlot(immune.cluster, features=c(\"CCR7\",\"GZMK\",\"GZMB\",\"FOXP3\"))\n",
    "dev.off()\n",
    "\n",
    "pdf(\"gdT.pdf\",width=15)\n",
    "DefaultAssay(immune.cluster) <- \"RNA\"\n",
    "FeaturePlot(immune.cluster, features=c(\"TRDC\",\"TRGV9\",\"TRGV10\"))\n",
    "dev.off()\n",
    "\n",
    "pdf(\"Bcell.pdf\",width=15)\n",
    "DefaultAssay(immune.cluster) <- \"RNA\"\n",
    "FeaturePlot(immune.cluster, features=c(\"JCHAIN\",\"CD79A\",\"MS4A1\",\"IGHG1\"))\n",
    "dev.off()\n",
    "\n",
    "pdf(\"Macrophage.pdf\",width=15)\n",
    "DefaultAssay(immune.cluster) <- \"RNA\"\n",
    "FeaturePlot(immune.cluster, features=c(\"CD68\",\"CD163\",\"CD14\",\"FCGR3A\"))\n",
    "dev.off()\n",
    "\n",
    "pdf(\"NK123_n4.pdf\",width=15)\n",
    "DefaultAssay(immune.cluster) <- \"RNA\"\n",
    "FeaturePlot(immune.cluster, features=c(\"FCG3RA\",\"CX3CR1\",\"FGFBP2\",\"FCGR3B\"))\n",
    "dev.off()\n",
    "\n",
    "pdf(\"cDC12_pDC34.pdf\",width=15)\n",
    "DefaultAssay(immune.cluster) <- \"RNA\"\n",
    "FeaturePlot(immune.cluster, features=c(\"CCL17\",\"CD1C\",\"CLEC9A\",\"LILRA4\"))\n",
    "dev.off()\n",
    "\n",
    "pdf(\"Unassign.pdf\",width=15)\n",
    "DefaultAssay(immune.cluster) <- \"RNA\"\n",
    "FeaturePlot(immune.cluster, features=c(\"PF4\",\"PPBP\",\"TPSB2\"))\n",
    "dev.off()\n",
    "\n",
    "pdf(\"Macrophage_Lung_monocyte.pdf\",width=15)\n",
    "DefaultAssay(immune.cluster) <- \"RNA\"\n",
    "FeaturePlot(immune.cluster, features=c(\"SPP1\",\"G0S2\",\"CHI3L1\"))\n",
    "dev.off()\n",
    "\n",
    "# CEC:ciliated epithelial cell; CC:club cell; AT: alveolar type\n",
    "pdf(\"CEC_CC_AT1_AT2.pdf\",width=15)\n",
    "DefaultAssay(immune.cluster) <- \"RNA\"\n",
    "FeaturePlot(immune.cluster, features=c(\"FOXJ1\",\"SCGB1A1\",\"AGER\",\"SFTPC\"))\n",
    "dev.off()\n",
    "\n",
    "pdf(\"Mast_cell.pdf\",width=15)\n",
    "DefaultAssay(immune.cluster) <- \"RNA\"\n",
    "FeaturePlot(immune.cluster, features=c(\"TPSB2\"))\n",
    "dev.off()\n",
    "\n",
    "\n",
    "pdf(\"LEC.pdf\",width=15)\n",
    "DefaultAssay(immune.cluster) <- \"RNA\"\n",
    "FeaturePlot(immune.cluster, features=c(\"CLDN5\",\"PDPN\",\"PROX1\"))\n",
    "dev.off()\n",
    "\n",
    "# LBC:lung_basal_cell\n",
    "pdf(\"myofibroblast_pericyte_LBC.pdf\",width=15)\n",
    "DefaultAssay(immune.cluster) <- \"RNA\"\n",
    "FeaturePlot(immune.cluster, features=c(\"MYH11\",\"RGS5\",\"KRT5\"))\n",
    "dev.off()\n",
    "\n",
    "pdf(\"fibroblast.pdf\",width=15)\n",
    "DefaultAssay(immune.cluster) <- \"RNA\"\n",
    "FeaturePlot(immune.cluster, features=c(\"DCN\",\"FGF7\",\"MME\"))\n",
    "dev.off()\n",
    "\n",
    "pdf(\"ciliated_epithelial_cell.pdf\",width=15)\n",
    "DefaultAssay(immune.cluster) <- \"RNA\"\n",
    "FeaturePlot(immune.cluster, features=c(\"CAPS\"))\n",
    "dev.off()\n",
    "\n",
    "# fibroblast\n",
    "fig.size(15,20)\n",
    "DefaultAssay(immune.cluster) <- \"RNA\"\n",
    "FeaturePlot(immune.cluster, features=c(\"SPINT2\",\"CD14\",\"LMCD1\",\"FGFR4\",\"FIGF\")) #SPINT2hi\n",
    "FeaturePlot(immune.cluster, features=c(\"MFAP5\",\"CD34\",\"THY1\",\"SLPI\",\"PLA2G2A\")) #MFAP5hi\n",
    "FeaturePlot(immune.cluster, features=c(\"WIF1\",\"ITGA10\")) #WIF1hi\n",
    "\n",
    "# Monocyte --> Macrophage \n",
    "FeaturePlot(immune.cluster, features=c(\"FCN1\",\"CCR2\",\"CD68\",\"CCL3\")) #Monocyte 为 FCN1\n",
    "FeaturePlot(immune.cluster, features=c(\"FN1\",\"C1QA\",\"CCL13\",\"CCL18\"))\n",
    "FeaturePlot(immune.cluster, features=c(\"PPARG\",\"FABP4\",\"LYVE1\",\"RGS1\"))"
   ]
  },
  {
   "cell_type": "code",
   "execution_count": null,
   "id": "804d40fc-35b9-4115-8b0b-09a031a84473",
   "metadata": {
    "jupyter": {
     "source_hidden": true
    },
    "tags": []
   },
   "outputs": [],
   "source": [
    "# --- Added Cell CellType information\n",
    "new.cluster.ids <- c(\"AT2\",#0\n",
    "                    \"Alveolar_Mac\",#1\n",
    "                    \"Monocyte_derived\",#2\n",
    "                    \"Alveolar_Mac\",#3\n",
    "                    \"Monocyte_derived\",#4\n",
    "                    \"AT2\",#5\n",
    "                    \"AT2\",#6\n",
    "                    \"T_cell\",#7\n",
    "                    \"Monocyte\",#8\n",
    "                    \"Monocyte_derived\",#9\n",
    "                    \"Monocyte_derived\",#10\n",
    "                    \"AT2\",#11\n",
    "                    \"NK_cell\",#12\n",
    "                    \"Alveolar_Mac\",#13\n",
    "                    \"Monocyte\",#14\n",
    "                    \"AT2\",#15\n",
    "                    \"Monocyte\",#16\n",
    "                    \"AT2\",#17\n",
    "                    \"AT1\",#18\n",
    "                    \"T_cell\",#19\n",
    "                    \"Endothelial_cell\",#20\n",
    "                    \"Monocyte\",#21\n",
    "                    \"Ciliated_epithelial_cell\",#22\n",
    "                    \"Monocyte_derived\",#23\n",
    "                    \"Fibroblast\",#24\n",
    "                    \"Mast_cell\",#25\n",
    "                    \"T_cell\",#26\n",
    "                    \"Monocyte_derived\",#27\n",
    "                    \"Endothelial_cell\",#28\n",
    "                    \"Endothelial_cell\",#29\n",
    "                    \"Club_cell\",#30\n",
    "                    \"T_cell\",#31\n",
    "                    \"AT1\",#32\n",
    "                    \"Ciliated_epithelial_cell\",#33\n",
    "                    \"Endothelial_cell\",#34\n",
    "                    \"Endothelial_cell\",#35\n",
    "                    \"cDC\",#36\n",
    "                    \"Fibroblast\",#37\n",
    "                    \"B_cell\",#38\n",
    "                    \"LEC\",#39\n",
    "                    \"Myofibroblast\",#40\n",
    "                    \"AT2\",#41\n",
    "                    \"Lung_basal_cell\",#42\n",
    "                    \"Monocyte_derived\",#43\n",
    "                    \"Pericyte\",#44\n",
    "                    \"Plasma\",#45\n",
    "                    \"Low_Quality\",#46！！！\n",
    "                    \"AT2\",#47\n",
    "                    \"AT2\",#48\n",
    "                    \"Endothelial_cell\",#49\n",
    "                    \"Monocyte\",#50\n",
    "                    \"AT2\",#51\n",
    "                    \"Alveolar_Mac\"#52\n",
    "                    )\n",
    "Idents(immune.cluster) <- \"integrated_snn_res.2\"\n",
    "names(new.cluster.ids) <- levels(immune.cluster)\n",
    "immune.cluster <- RenameIdents(immune.cluster, new.cluster.ids)\n",
    "immune.cluster$CellType <- Idents(immune.cluster)# 将注释好的细胞信息保存到 ssc@meta.data 中\n",
    "# res3,cluster40 考虑排除掉\n",
    "cells.use <- WhichCells(ssc_combine, expression = integrated_snn_res.3 == 40)\n",
    "cells.use\n",
    "ssc_combine@meta.data[cells.use, \"CellType\"] <- \"Low_Quality\"\n",
    "saveRDS(ssc_combine, file=\"data/SSC_Combine/anno_SSC_Combine.rds\")\n",
    "\n",
    "pdf(file=\"/share/home/qlab/projects/qlab_yrs/project_ssc/result/Umap/SSC_Combine/Anno2.pdf\", width=15)\n",
    "Idents(immune.cluster) <- \"CellType\"\n",
    "DimPlot(immune.cluster, reduction = \"umap\",label = TRUE) + NoLegend()\n",
    "dev.off()"
   ]
  },
  {
   "cell_type": "code",
   "execution_count": null,
   "id": "081f4581-8a5d-45a1-ba74-7d7b2c3427ce",
   "metadata": {
    "jupyter": {
     "source_hidden": true
    },
    "tags": []
   },
   "outputs": [],
   "source": [
    "# --- Merge CellSubType Information\n",
    "immune.cluster <- readRDS('anno_SSC_Combine.rds')\n",
    "# --- define ct_levle1\n",
    "meta.data <- immune.cluster@meta.data %>% rownames_to_column(var = 'barcode') %>% \n",
    "                .[,c('barcode', 'orig.ident', 'nCount_RNA', 'nFeature_RNA', 'nCount_AUC', 'nFeature_AUC', 'SamNum', 'SampleID',\n",
    "                'Group', 'Site', 'Gender', 'Age', 'Cohort', 'percent.mt', 'S.Score', 'G2M.Score', 'Phase', \n",
    "                'old.ident', 'IFN.Score1', 'integrated_snn_res.0.1', 'integrated_snn_res.0.2', 'integrated_snn_res.0.4',\n",
    "                'integrated_snn_res.0.8', 'integrated_snn_res.1.2', 'integrated_snn_res.1.6', 'integrated_snn_res.2',\n",
    "                'integrated_snn_res.3', 'seurat_clusters', 'CellType', 'pANN', 'DF.classifications', \n",
    "                'cell', 'DF2', 'DF_hi.lo')]\n",
    "meta.data$CellType <- as.character(meta.data$CellType)\n",
    "meta.data$ct_level1 <- ''\n",
    "meta.data$ct_level1[which(meta.data$CellType %in% c('AT2', 'AT1', 'Ciliated_epithelial_cell', 'Club_cell', 'Lung_basal_cell'))] <- 'Epithelial'\n",
    "meta.data$ct_level1[which(meta.data$CellType %in% c('Endothelial_cell', 'LEC'))] <- 'Endothelial'\n",
    "meta.data$ct_level1[which(meta.data$CellType %in% c('Alveolar_Mac', 'Monocyte_derived', 'Monocyte', 'Mast_cell', 'cDC'))] <- 'Myeloid'\n",
    "meta.data$ct_level1[which(meta.data$CellType %in% c('NK_cell', 'T_cell' ))] <- 'Lymphocyte_T/NK'\n",
    "meta.data$ct_level1[which(meta.data$CellType %in% c('B_cell', 'Plasma'))] <- 'Lymphocyte_B'\n",
    "meta.data$ct_level1[which(meta.data$CellType %in% c('Fibroblast', 'Pericyte', 'Myofibroblast'))] <- 'Fibroblast'\n",
    "# ---Merge ct_level2\n",
    "at.meta <- readRDS('../at_trb/all_assays_samples.rds') %>% .@meta.data %>% rownames_to_column(var = 'barcode') %>% mutate(ct_level2 = AT_CellType) %>% .[,c('barcode', 'ct_level2')]\n",
    "b.meta <- readRDS('../b/B_lung.rds') %>% .@meta.data %>% rownames_to_column(var = 'barcode') %>% mutate(ct_level2 = b_CellType) %>% .[,c('barcode', 'ct_level2')]\n",
    "ec.meta <- readRDS('../ec/02_anno.rds') %>% .@meta.data %>% rownames_to_column(var = 'barcode') %>% mutate(ct_level2 = EC_CellType) %>% .[,c('barcode', 'ct_level2')]\n",
    "fib.meta <- readRDS('../fib/fib_sm_pericyte.rds') %>% .@meta.data %>% rownames_to_column(var = 'barcode') %>% mutate(ct_level2 = fib_CellType) %>% .[,c('barcode', 'ct_level2')]\n",
    "mono.meta <- readRDS('../mono/all_assay_samples.rds')  %>% .@meta.data %>% rownames_to_column(var = 'barcode') %>% mutate(ct_level2 = mo_CellType) %>% .[,c('barcode', 'ct_level2')]\n",
    "t.meta <- readRDS('../t/T_lung.rds') %>% .@meta.data %>% rownames_to_column(var = 'barcode') %>% mutate(ct_level2 = t_CellType) %>% .[,c('barcode', 'ct_level2')]\n",
    "ct.l2.meta <- rbind(at.meta, b.meta) %>% rbind(ec.meta) %>% rbind(fib.meta) %>% rbind(mono.meta) %>% rbind(t.meta)\n",
    "meta.data <- left_join(meta.data, ct.l2.meta) %>% \n",
    "                # added Unclassified Subtypes\n",
    "                mutate(ct_level2 = ifelse(CellType == 'Ciliated_epithelial_cell', 'Ciliated', ct_level2)) %>% \n",
    "                mutate(ct_level2 = ifelse(CellType == 'Club_cell', 'Club', ct_level2)) %>% \n",
    "                mutate(ct_level2 = ifelse(CellType == 'Lung_basal_cell', 'Basal', ct_level2)) %>% \n",
    "                mutate(ct_level2 = ifelse(CellType == 'LEC', 'LymphEC', ct_level2)) %>% \n",
    "                mutate(ct_level2 = ifelse(CellType == 'Mast_cell', 'Mast', ct_level2)) %>% \n",
    "                mutate(ct_level2 = ifelse(CellType == 'cDC', 'cDC', ct_level2)) %>%\n",
    "                mutate(ct_level2 = ifelse(is.na(ct_level2), '', ct_level2)) \n",
    "immune.cluster@meta.data <- meta.data %>% column_to_rownames(var = 'barcode')\n",
    "saveRDS(immune.cluster, 'ssc_lung_allCT.rds')"
   ]
  },
  {
   "cell_type": "code",
   "execution_count": null,
   "id": "b70a081e-4507-46a1-9831-6e7a5cc536c4",
   "metadata": {
    "jupyter": {
     "source_hidden": true
    },
    "tags": []
   },
   "outputs": [],
   "source": [
    "# --- Rename Phenotype\n",
    "immune.cluster <- readRDS('ssc_lung_allCT.rds')\n",
    "immune.cluster@meta.data$CellType <- as.character(immune.cluster@meta.data$CellType)\n",
    "immune.cluster@meta.data$CellType[which(immune.cluster@meta.data$CellType == 'MD_Mac')] <- 'Md_Mac'\n",
    "immune.cluster@meta.data$CellType[which(immune.cluster@meta.data$CellType == 'T_cell')] <- 'Tcell'\n",
    "immune.cluster@meta.data$CellType[which(immune.cluster@meta.data$CellType == 'NK_cell')] <- 'NK'\n",
    "immune.cluster@meta.data$CellType[which(immune.cluster@meta.data$CellType == 'B_cell')] <- 'Bcell'\n",
    "immune.cluster@meta.data$CellType[which(immune.cluster@meta.data$CellType == 'Endothelial')] <- 'EC'\n",
    "immune.cluster@meta.data$CellType[which(immune.cluster@meta.data$CellType == 'Mast_cell')] <- 'Mast'\n",
    "immune.cluster@meta.data$CellType[which(immune.cluster@meta.data$CellType == 'Lymph_EC')] <- 'LymEC'\n",
    "immune.cluster@meta.data$CellType[which(immune.cluster@meta.data$CellType == 'Smooth_muscle')] <- 'SMC'\n",
    "\n",
    "ct.res <- data.frame(CellType = immune.cluster@meta.data$CellType %>% as.character() %>% unique(),\n",
    "                     celltype.res.0.1 = 0:(length(immune.cluster@meta.data$CellType %>% as.character() %>% unique()) - 1))\n",
    "meta <- immune.cluster@meta.data\n",
    "immune.cluster@meta.data <- meta %>% \n",
    "                                rownames_to_column(var = 'cell') %>%\n",
    "                                left_join(ct.res, by = 'CellType') %>%\n",
    "                                column_to_rownames(var = 'cell')\n",
    "saveRDS(immune.cluster, 'ssc_lung_allCT.rds')"
   ]
  },
  {
   "cell_type": "code",
   "execution_count": null,
   "id": "51e6f2da-aa17-410c-a575-5e07cda17d26",
   "metadata": {},
   "outputs": [],
   "source": []
  }
 ],
 "metadata": {
  "kernelspec": {
   "display_name": "Python 3 (ipykernel)",
   "language": "python",
   "name": "python3"
  },
  "language_info": {
   "codemirror_mode": {
    "name": "ipython",
    "version": 3
   },
   "file_extension": ".py",
   "mimetype": "text/x-python",
   "name": "python",
   "nbconvert_exporter": "python",
   "pygments_lexer": "ipython3",
   "version": "3.12.1"
  }
 },
 "nbformat": 4,
 "nbformat_minor": 5
}
